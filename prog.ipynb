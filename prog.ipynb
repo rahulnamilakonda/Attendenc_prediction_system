{
 "cells": [
  {
   "cell_type": "code",
   "execution_count": null,
   "metadata": {
    "collapsed": true
   },
   "outputs": [],
   "source": [
    "import pandas as pd\n"
   ]
  },
  {
   "cell_type": "code",
   "execution_count": null,
   "outputs": [],
   "source": [
    "#Data Selection\n",
    "dataset=pd.read_csv(\"dataset/dataset.csv\")\n",
    "X=dataset.iloc[:,[0,1,2,3,4,5,6]].values\n",
    "#Attributes\n",
    "#name, gender, weekday, yesterday_holiday,\n",
    "#today, tommorow_holiday, events,\n",
    "y=dataset.iloc[:,[-1]].values\n",
    "print(X,y)\n",
    "#target_concept today"
   ],
   "metadata": {
    "collapsed": false,
    "pycharm": {
     "name": "#%%\n"
    }
   }
  },
  {
   "cell_type": "code",
   "execution_count": null,
   "outputs": [],
   "source": [
    "from sklearn.feature_extraction.text import CountVectorizer\n",
    "cc=CountVectorizer()\n",
    "X=cc.fit_transform(X.ravel())"
   ],
   "metadata": {
    "collapsed": false,
    "pycharm": {
     "name": "#%%\n"
    }
   }
  }
 ],
 "metadata": {
  "kernelspec": {
   "display_name": "Python 3",
   "language": "python",
   "name": "python3"
  },
  "language_info": {
   "codemirror_mode": {
    "name": "ipython",
    "version": 2
   },
   "file_extension": ".py",
   "mimetype": "text/x-python",
   "name": "python",
   "nbconvert_exporter": "python",
   "pygments_lexer": "ipython2",
   "version": "2.7.6"
  }
 },
 "nbformat": 4,
 "nbformat_minor": 0
}